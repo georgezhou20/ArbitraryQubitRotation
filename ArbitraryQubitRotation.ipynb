{
  "nbformat": 4,
  "nbformat_minor": 0,
  "metadata": {
    "colab": {
      "provenance": []
    },
    "kernelspec": {
      "name": "python3",
      "display_name": "Python 3"
    },
    "language_info": {
      "name": "python"
    }
  },
  "cells": [
    {
      "cell_type": "code",
      "execution_count": 2,
      "metadata": {
        "id": "fvzRRq3rlenS"
      },
      "outputs": [],
      "source": [
        "import numpy as np\n",
        "import random\n",
        "import cmath"
      ]
    },
    {
      "cell_type": "code",
      "source": [
        "#Rz Gate\n",
        "def Rz(l):\n",
        "  return np.matrix(\n",
        "      [\n",
        "          [np.exp(-l*1j/2), 0],\n",
        "          [0, np.exp(l*1j/2)]\n",
        "      ]\n",
        "  )"
      ],
      "metadata": {
        "id": "6ABm4ieGl2WW"
      },
      "execution_count": 3,
      "outputs": []
    },
    {
      "cell_type": "code",
      "source": [
        "#Rx Gate\n",
        "def Rx(l):\n",
        "  return np.matrix(\n",
        "      [\n",
        "          [np.cos(l / 2), -1j * np.sin(l / 2)],\n",
        "          [-1j * np.sin(l / 2), np.cos(l / 2)]\n",
        "      ]\n",
        "  )"
      ],
      "metadata": {
        "id": "lQoyRRAspVXM"
      },
      "execution_count": 4,
      "outputs": []
    },
    {
      "cell_type": "code",
      "source": [
        "#Conversion of spherical angles to cartesian\n",
        "\n",
        "def x(phi, theta):\n",
        "  return np.sin(theta) * np.cos(phi)\n",
        "\n",
        "def y(phi, theta):\n",
        "  return np.sin(theta) * np.sin(phi)\n",
        "\n",
        "def z(theta):\n",
        "  return np.cos(theta)"
      ],
      "metadata": {
        "id": "R5OX5Gvs2OHK"
      },
      "execution_count": 5,
      "outputs": []
    },
    {
      "cell_type": "code",
      "source": [
        "#Functions determining the phase acculumated by Rx and Rz gates\n",
        "\n",
        "#Eq. 100\n",
        "def gamma_x(l, phi, theta):\n",
        "  return -np.arctan(np.cos(phi) / (cot(l / 2) * cot(theta / 2) + np.sin(phi)))\n",
        "\n",
        "#Eq. 103\n",
        "def gamma_z(l):\n",
        "  return -l / 2"
      ],
      "metadata": {
        "id": "kaSdshxV2X2M"
      },
      "execution_count": 6,
      "outputs": []
    },
    {
      "cell_type": "code",
      "source": [
        "def cot(x):\n",
        "  return 1 / np.tan(x)"
      ],
      "metadata": {
        "id": "O3nZwiPD4Lmj"
      },
      "execution_count": 7,
      "outputs": []
    },
    {
      "cell_type": "code",
      "source": [
        "#Given an initial state and a final state, determine the unitary gate that maps the initial state to the final state\n",
        "#Also determine the value of alpha for calculation of the matrix form of U\n",
        "def U(gamma_i, phi_i, theta_i, gamma_f, phi_f, theta_f):\n",
        "  x_i = x(phi_i, theta_i)\n",
        "  y_i = y(phi_i, theta_i)\n",
        "  z_i = z(theta_i)\n",
        "\n",
        "  x_f = x(phi_f, theta_f)\n",
        "  y_f = y(phi_f, theta_f)\n",
        "  z_f = z(theta_f)\n",
        "\n",
        "  lambda_1 = -np.arctan(z_i / y_i)\n",
        "  lambda_2 = np.arccos(x_i)\n",
        "  lambda_3 = np.arccos(x_f)\n",
        "  lambda_4 = np.arctan(z_f / y_f)\n",
        "\n",
        "  if phi_i < 0: \n",
        "    lambda_2 = -lambda_2\n",
        "  if phi_f < 0:\n",
        "    lambda_3 = -lambda_3\n",
        "  \n",
        "  #Eq. 118, 119\n",
        "  lambda_p = 2 * (\n",
        "                    gamma_i - gamma_f \n",
        "                  + gamma_x(lambda_1, phi_i, theta_i)\n",
        "                  + gamma_z(lambda_3 - lambda_2)\n",
        "                  + gamma_x(lambda_4, lambda_3, np.pi / 2)\n",
        "                )\n",
        "  \n",
        "  #Eq. 132\n",
        "  alpha = gamma_x(lambda_1, np.pi + phi_i, np.pi - theta_i) + gamma_z(lambda_3 - lambda_2) + gamma_x(lambda_4, lambda_3 - np.pi, np.pi / 2) + lambda_p / 2\n",
        "\n",
        "  return Rx(lambda_4) @ Rz(lambda_3) @ Rx(lambda_p) @ Rz(-lambda_2) @ Rx(lambda_1), alpha"
      ],
      "metadata": {
        "id": "t3hwLuUHp5uu"
      },
      "execution_count": 8,
      "outputs": []
    },
    {
      "cell_type": "code",
      "source": [
        "i = 0\n",
        "cases = 10000\n",
        "for i in range(cases):\n",
        "  gamma_i = random.uniform(0, 2 * np.pi)\n",
        "  gamma_f = random.uniform(0, 2 * np.pi)\n",
        "\n",
        "  phi_i = random.uniform(-np.pi, np.pi)\n",
        "  phi_f = random.uniform(-np.pi, np.pi)\n",
        "\n",
        "  theta_i = random.uniform(0, np.pi)\n",
        "  theta_f = random.uniform(0, np.pi)\n",
        "\n",
        "  psi_i = np.exp(gamma_i * 1j) * np.array([np.cos(theta_i / 2), np.exp(phi_i * 1j) * np.sin(theta_i / 2)])\n",
        "  psi_f = np.exp(gamma_f * 1j) * np.array([np.cos(theta_f / 2), np.exp(phi_f * 1j) * np.sin(theta_f / 2)])\n",
        "\n",
        "  U1, alpha = U(gamma_i, phi_i, theta_i, gamma_f, phi_f, theta_f)\n",
        "\n",
        "  #Eq. 133\n",
        "  matrix1 = np.matrix(\n",
        "    [\n",
        "        [np.cos(theta_f / 2) * np.cos(theta_i / 2), np.exp(-phi_i * 1j) * np.cos(theta_f / 2) * np.sin(theta_i / 2)],\n",
        "        [np.exp(phi_f * 1j) * np.sin(theta_f / 2) * np.cos(theta_i / 2), np.exp((phi_f - phi_i) * 1j) * np.sin(theta_f / 2) * np.sin(theta_i / 2)]\n",
        "    ]\n",
        "  )\n",
        "\n",
        "  matrix2 = np.matrix(\n",
        "      [\n",
        "          [np.sin(theta_f / 2) * np.sin(theta_i / 2), -np.exp(-phi_i * 1j) * np.sin(theta_f / 2) * np.cos(theta_i / 2)],\n",
        "          [-np.exp(phi_f * 1j) * np.cos(theta_f / 2) * np.sin(theta_i / 2), np.exp((phi_f - phi_i) * 1j) * np.cos(theta_f / 2) * np.cos(theta_i / 2)]\n",
        "      ]\n",
        "  )\n",
        "\n",
        "  U2 = np.exp((gamma_f - gamma_i) * 1j) * matrix1 + np.exp(alpha * 1j) * matrix2\n",
        "  \n",
        "  #Comparing |psi_f> to U|psi_i>\n",
        "  psi_diff = U1.dot(psi_i) - psi_f\n",
        "  if not np.all(np.abs(psi_diff) < 1e-10):\n",
        "    print('Failure: U1')\n",
        "    print(psi_i)\n",
        "    print(psi_f)\n",
        "    print(psi_diff)\n",
        "    break\n",
        "\n",
        "  #Comparing U obtained by the 5 rotation gates to U obtained from Eq. 133\n",
        "  U_diff = U2 - U1\n",
        "  if not np.all(np.abs(U_diff) < 1e-10):\n",
        "    print('Failure: U2')\n",
        "    print(U1)\n",
        "    print(U2)\n",
        "    print(U_diff)\n",
        "    break"
      ],
      "metadata": {
        "id": "JCu-K2EXMpln"
      },
      "execution_count": 22,
      "outputs": []
    },
    {
      "cell_type": "code",
      "source": [],
      "metadata": {
        "id": "DpHtuzrsAg5U"
      },
      "execution_count": null,
      "outputs": []
    }
  ]
}